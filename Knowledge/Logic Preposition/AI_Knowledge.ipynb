{
  "nbformat": 4,
  "nbformat_minor": 0,
  "metadata": {
    "colab": {
      "provenance": []
    },
    "kernelspec": {
      "name": "python3",
      "display_name": "Python 3"
    },
    "language_info": {
      "name": "python"
    }
  },
  "cells": [
    {
      "cell_type": "code",
      "execution_count": 1,
      "metadata": {
        "id": "yK7h6KkWMccB"
      },
      "outputs": [],
      "source": [
        "import itertools"
      ]
    },
    {
      "cell_type": "code",
      "source": [
        "class Sentence():\n",
        "    @classmethod\n",
        "    def validate(cls,prep):\n",
        "        #verify if the preposition is an instance of Sentence(), that will be right\n",
        "        #if we define a preposition as a Symbol(), bc Symbol() inheritance of Sentence\n",
        "        if isinstance(prep,Sentence):\n",
        "            return True\n",
        "        else:\n",
        "            raise TypeError(\"The preposition must be a logic sentence\")\n",
        "\n",
        "    @classmethod\n",
        "    def parenthesize(cls,prep):\n",
        "        def balanced(prep):\n",
        "            num = 0\n",
        "            for i in prep:\n",
        "                if(i==')'):num -= 1\n",
        "                if(num == -1):return False\n",
        "                if(i=='('): num += 1\n",
        "            if(num == 0): return True\n",
        "\n",
        "        if prep.isalpha() or not len(prep) or (prep[0]=='(' and prep[-1]==')' and balanced(prep[1:-1])):#start by the index 1 and finish in the penultimate index\n",
        "            return prep\n",
        "        else:\n",
        "            return f\"({prep})\""
      ],
      "metadata": {
        "id": "7clcRgFfaP13"
      },
      "execution_count": 2,
      "outputs": []
    },
    {
      "cell_type": "code",
      "source": [
        "class Symbol(Sentence):\n",
        "    def __init__(self,name):\n",
        "        self.name = name\n",
        "\n",
        "    def __eq__(self,other):\n",
        "        return isinstance(other,Symbol) and self.name == other.name\n",
        "\n",
        "    def __repr__(self):\n",
        "        return self.name\n",
        "\n",
        "    def evaluate(self,model):\n",
        "        try:\n",
        "            return model[self.name]\n",
        "        except KeyError:\n",
        "            raise EvaluationException(f\"variable {self.name} not in model\")\n",
        "\n",
        "    def formula(self):\n",
        "        return self.name\n",
        "\n",
        "    def symbols(self):\n",
        "        return {self.name}"
      ],
      "metadata": {
        "id": "LBy7eEVY0b4f"
      },
      "execution_count": 3,
      "outputs": []
    },
    {
      "cell_type": "code",
      "source": [
        "class NOT(Sentence):\n",
        "    def __init__(self,operand):\n",
        "        Sentence.validate(operand)\n",
        "        self.operand = operand\n",
        "\n",
        "    def __eq__(self,other):#that works like an operator oveloading, \"==\" Overloading(sobrecargamos el ==)\n",
        "        return isinstance(other,NOT) and self.operand == other.operand\n",
        "\n",
        "    def __repr__(self):#\"print() overloading(sobrecargamos la impresion)\"\n",
        "        return f\"Not ({self.operand})\"\n",
        "        #remember the operator inside of NOT is a Symbol, so if we want to see the value inside\n",
        "        #we have to implement the same method in Symbol()\n",
        "\n",
        "    def formula(self):\n",
        "        return \"¬\" + Sentence.parenthesize(self.operand.formula())\n",
        "\n",
        "    def evaluate(self,model):\n",
        "        return not self.operand.evaluate(model)\n",
        "\n",
        "    def symbols(self):\n",
        "        return self.operand.symbols()"
      ],
      "metadata": {
        "id": "hWarmLsAYa13"
      },
      "execution_count": 4,
      "outputs": []
    },
    {
      "cell_type": "code",
      "source": [
        "class AND(Sentence):\n",
        "    def __init__(self,*conjuncts):# \"*\" means it grab all argument that we give it, and store them in a variable \"conjuncts\"\n",
        "        for conjunct in conjuncts:\n",
        "            Sentence.validate(conjunct)\n",
        "        self.conjuncts = list(conjuncts)\n",
        "\n",
        "    def __eq__(self,other):\n",
        "        return isinstance(other,AND) and self.conjuncts == other.conjuncts\n",
        "\n",
        "    def __repr__(self):\n",
        "        conjunctions = \",\".join([str(conjunct) for conjunct in self.conjuncts])\n",
        "        return f\"AND({conjunctions})\"\n",
        "\n",
        "    def add(self,conjunct):\n",
        "        Sentence.validate(conjunct)\n",
        "        self.conjuncts.append(conjunct)\n",
        "\n",
        "\n",
        "    def evaluate(self,model):\n",
        "        return all(conjunct.evaluate(model) for conjunct in self.conjuncts)#all return True if all the subexpressions are True\n",
        "\n",
        "    def formula(self):\n",
        "        if len(self.conjuncts)==1:\n",
        "            return self.conjuncts[0].formula()\n",
        "        return \" ∧ \".join([Sentence.parenthesize(conjunct.formula()) for conjunct in self.conjuncts])\n",
        "\n",
        "    def symbols(self):\n",
        "        return set.union(*[conjunct.symbols() for conjunct in self.conjuncts])#without union we would return more than 1 value\n",
        "        #So we have to use union to gather the items, but union doesnt allowed a list of items, for that we need to separate it, so with \"*\"\" we can do it\n",
        "\n"
      ],
      "metadata": {
        "id": "5SlsGlxaqmFW"
      },
      "execution_count": 5,
      "outputs": []
    },
    {
      "cell_type": "code",
      "source": [
        "class OR(Sentence):\n",
        "    def __init__(self,*disjuncts):# \"*\" means it grab all argument that we give it, and store them in a variable \"conjuncts\"\n",
        "        for disjunct in disjuncts:\n",
        "            Sentence.validate(disjunct)\n",
        "        self.disjuncts = list(disjuncts)#list allows *elements\n",
        "\n",
        "    def __eq__(self,other):\n",
        "        return isinstance(other,OR) and self.disjuncts == other.disjuncts\n",
        "\n",
        "    def __repr__(self):\n",
        "        disjunctions = \",\".join([str(disjunct) for disjunct in self.disjuncts])\n",
        "        return f\"OR({disjunctions})\"\n",
        "\n",
        "    def evaluate(self,model):\n",
        "        return any(disjunct.evaluate(model) for disjunct in self.disjuncts)#all return False if all the subexpressions are False\n",
        "\n",
        "    def formula(self):\n",
        "        if len(self.disjuncts)==1:\n",
        "            return self.disjuncts[0].formula()\n",
        "        return \" ∨ \".join([Sentence.parenthesize(disjunct.formula()) for disjunct in self.disjuncts])\n",
        "\n",
        "    def symbols(self):\n",
        "        return set.union(*[disjunct.symbols() for disjunct in self.disjuncts])\n"
      ],
      "metadata": {
        "id": "pTGLkO8VaqAW"
      },
      "execution_count": 6,
      "outputs": []
    },
    {
      "cell_type": "code",
      "source": [
        "class IMPLICATION(Sentence):\n",
        "    def __init__(self,antecedent,consequent):\n",
        "        Sentence.validate(antecedent)\n",
        "        Sentence.validate(consequent)\n",
        "        self.implications = [antecedent,consequent]#[]array can be modified, ()tuple cannot be modified\n",
        "    def __eq__(self,other):\n",
        "        return isinstance(other,IMPLICATION) and self.implications == other.implicacions\n",
        "\n",
        "    def __repr__(self):\n",
        "        implications = \",\".join([str(implication) for implication in self.implications])\n",
        "        return f\"IMPLICATION({implications})\"\n",
        "\n",
        "    def evaluate(self,model):\n",
        "        return ((not(self.implications[0].evaluate(model))) or self.implications[1].evaluate(model))\n",
        "\n",
        "    def formula(self):\n",
        "        return \"=>\".join([Sentence.parenthesize(implication.formula()) for implication in self.implications])\n",
        "\n",
        "    def symbols(self):\n",
        "        return set.union(*[implication.symbols() for implication in self.implications])"
      ],
      "metadata": {
        "id": "LriZ0ZVzbu_8"
      },
      "execution_count": 7,
      "outputs": []
    },
    {
      "cell_type": "code",
      "source": [
        "class BICONDITIONAL(Sentence):\n",
        "    def __init__(self,left,right):\n",
        "        Sentence.validate(left)\n",
        "        Sentence.validate(right)\n",
        "        self.biconditionals = [left,right]#[]array can be modified, ()tuple cannot be modified\n",
        "    def __eq__(self,other):\n",
        "        return isinstance(other,BICONDITIONAL) and self.biconditionals == other.biconditionals\n",
        "\n",
        "    def __repr__(self):\n",
        "        biconditionals = \",\".join([str(biconditional) for biconditional in self.biconditionals])\n",
        "        return f\"IMPLICATION({biconditionals})\"\n",
        "\n",
        "    def evaluate(self,model):\n",
        "        left = self.biconditionals[0].evaluate(model)\n",
        "        right = self.biconditionals[1].evaluate(model)\n",
        "        return (left and right) or ((not left) and (not right))\n",
        "\n",
        "    def formula(self):\n",
        "        return \"<=>\".join([Sentence.parenthesize(biconditional.formula()) for biconditional in self.biconditionals])\n",
        "\n",
        "    def symbols(self):\n",
        "        return set.union(*[biconditional.symbols() for biconditional in self.biconditionals])\n"
      ],
      "metadata": {
        "id": "Yn4GapuHld24"
      },
      "execution_count": 8,
      "outputs": []
    },
    {
      "cell_type": "code",
      "source": [
        "def model_check(knowledge,query):\n",
        "\n",
        "    def check_all(knowledge, query, symbols, model):\n",
        "        if not symbols:\n",
        "            if knowledge.evaluate(model):\n",
        "                return query.evaluate(model)\n",
        "            return True\n",
        "        else:\n",
        "            remaining = symbols.copy()\n",
        "            p = remaining.pop()\n",
        "\n",
        "            model_true = model.copy()\n",
        "            model_true[p] = True\n",
        "\n",
        "            model_false = model.copy()\n",
        "            model_false[p] = False\n",
        "\n",
        "            return (check_all(knowledge,query,remaining,model_true) and check_all(knowledge,query,remaining,model_false))\n",
        "            #We know the knowledge MUST BE TRUE...(1)\n",
        "\n",
        "            #always there will be worlds where the prepositions make knowledge true, so in that worlds we have to return the value of the query\n",
        "            #because if the query is TRUE all will be right but if the query is FALSE we have to know to establish a\n",
        "            #\"MAYBE(not sure that is TRUE so it will be FALSE)\"\n",
        "\n",
        "            #If the knowledge is FALSE, we know that is not posible for (1) so we have to return a TRUE value to not affect the results and the logic.\n",
        "            #So we dont have to worry about the value of the query bc knowledge FALSE is not allowed. we only have to pay attention when the\n",
        "            #knowledge is TRUE\n",
        "\n",
        "            #the result of the recursion must be an AND bc we have to be sure that\n",
        "            #in the \"TRUE WORLDS\" and in the \"FALSE WORLDS\",all the values are TRUE and \"FALSE WORLDS\"\n",
        "\n",
        "\n",
        "\n",
        "\n",
        "    symbols = set.union(knowledge.symbols(),query.symbols())#union delete the repeated items\n",
        "\n",
        "    return check_all(knowledge, query, symbols, dict())"
      ],
      "metadata": {
        "id": "ZEBGbkAYmgXh"
      },
      "execution_count": 9,
      "outputs": []
    },
    {
      "cell_type": "code",
      "source": [
        "rain = Symbol(\"rain\")\n",
        "hagrid = Symbol(\"hagrid\")\n",
        "dumbledore = Symbol(\"dumbledore\")\n",
        "\n",
        "sentence2 = AND(rain,hagrid,BICONDITIONAL(OR(dumbledore,NOT(rain)),IMPLICATION(AND(hagrid,rain),OR(rain,dumbledore))))\n",
        "sentence4 = AND(IMPLICATION(AND(rain,NOT(hagrid)),dumbledore),rain,NOT(hagrid))\n",
        "\n",
        "sentence5 = AND(IMPLICATION(rain,hagrid),rain)\n",
        "\n",
        "\n",
        "print(sentence2.formula())\n",
        "print(sentence4.formula())\n",
        "\n",
        "print(model_check(sentence5,hagrid))"
      ],
      "metadata": {
        "colab": {
          "base_uri": "https://localhost:8080/"
        },
        "id": "cUxICnW52CpP",
        "outputId": "4dfc44fe-d566-4b4e-fe8a-30d25189439d"
      },
      "execution_count": 16,
      "outputs": [
        {
          "output_type": "stream",
          "name": "stdout",
          "text": [
            "rain ∧ hagrid ∧ ((dumbledore ∨ (¬rain))<=>((hagrid ∧ rain)=>(rain ∨ dumbledore)))\n",
            "((rain ∧ (¬hagrid))=>dumbledore) ∧ rain ∧ (¬hagrid)\n",
            "True\n"
          ]
        }
      ]
    },
    {
      "cell_type": "code",
      "source": [
        "import termcolor\n",
        "\n",
        "mustard = Symbol(\"ColMustard\")\n",
        "plum = Symbol(\"ProfPlum\")\n",
        "scarlet = Symbol(\"MsScarlet\")\n",
        "characters = [mustard, plum, scarlet]\n",
        "\n",
        "ballroom = Symbol(\"ballroom\")\n",
        "kitchen = Symbol(\"kitchen\")\n",
        "library = Symbol(\"library\")\n",
        "rooms = [ballroom, kitchen, library]\n",
        "\n",
        "knife = Symbol(\"knife\")\n",
        "revolver = Symbol(\"revolver\")\n",
        "wrench = Symbol(\"wrench\")\n",
        "weapons = [knife, revolver, wrench]\n",
        "\n",
        "symbols = characters + rooms + weapons\n",
        "\n",
        "\n",
        "def check_knowledge(knowledge):\n",
        "    for symbol in symbols:\n",
        "        if model_check(knowledge, symbol):#here verify if the symbol is only TRUE\n",
        "            termcolor.cprint(f\"{symbol}: YES\", \"green\")\n",
        "        elif not model_check(knowledge, NOT(symbol)):#here verify if the symbol is only FALSE\n",
        "            print(f\"{symbol}: MAYBE\")#here only print if we dont know for sure what is the value of the symbol\n",
        "\n",
        "\n",
        "# There must be a person, room, and weapon.\n",
        "knowledge = AND(\n",
        "    OR(mustard, plum, scarlet),\n",
        "    OR(ballroom, kitchen, library),\n",
        "    OR(knife, revolver, wrench)\n",
        ")\n",
        "\n",
        "# Initial cards\n",
        "knowledge.add(AND(\n",
        "    NOT(mustard), NOT(kitchen), NOT(revolver)\n",
        "))\n",
        "\n",
        "# Unknown card\n",
        "knowledge.add(OR(\n",
        "    NOT(scarlet), NOT(library), NOT(wrench)\n",
        "))\n",
        "\n",
        "# Known cards\n",
        "knowledge.add(NOT(plum))\n",
        "knowledge.add(NOT(ballroom))\n",
        "\n",
        "check_knowledge(knowledge)"
      ],
      "metadata": {
        "colab": {
          "base_uri": "https://localhost:8080/"
        },
        "id": "ya8m_nlzcUmB",
        "outputId": "00c79667-fb7a-4236-c1bd-481a44818361"
      },
      "execution_count": 11,
      "outputs": [
        {
          "output_type": "stream",
          "name": "stdout",
          "text": [
            "MsScarlet: YES\n",
            "library: YES\n",
            "knife: YES\n"
          ]
        }
      ]
    },
    {
      "cell_type": "code",
      "source": [
        "people = [\"Gilderoy\", \"Pomona\", \"Minerva\", \"Horace\"]\n",
        "houses = [\"Gryffindor\", \"Hufflepuff\", \"Ravenclaw\", \"Slytherin\"]\n",
        "\n",
        "symbols = []\n",
        "\n",
        "knowledge = AND()\n",
        "\n",
        "for person in people:\n",
        "    for house in houses:\n",
        "        symbols.append(Symbol(f\"{person}{house}\"))\n",
        "\n",
        "for person in people:\n",
        "    knowledge.add(OR(\n",
        "        Symbol(f\"{person}{houses[0]}\"),\n",
        "        Symbol(f\"{person}{houses[1]}\"),\n",
        "        Symbol(f\"{person}{houses[2]}\"),\n",
        "        Symbol(f\"{person}{houses[3]}\")\n",
        "    ))\n",
        "\n",
        "for person in people:\n",
        "    for house_princ in houses:\n",
        "        for house_aux in houses:\n",
        "            if house_princ != house_aux:\n",
        "                knowledge.add(\n",
        "                    IMPLICATION(Symbol(f\"{person}{house_princ}\"),NOT(Symbol(f\"{person}{house_aux}\")))\n",
        "                )\n",
        "\n",
        "for house in houses:\n",
        "    for person_princ in people:\n",
        "        for person_aux in people:\n",
        "            if person_princ != person_aux:\n",
        "                knowledge.add(\n",
        "                    IMPLICATION(Symbol(f\"{person_princ}{house}\"),NOT(Symbol(f\"{person_aux}{house}\")))\n",
        "                )\n",
        "\n",
        "knowledge.add(\n",
        "    OR(Symbol(\"GilderoyGryffindor\"), Symbol(\"GilderoyRavenclaw\"))\n",
        ")\n",
        "\n",
        "knowledge.add(\n",
        "    NOT(Symbol(\"PomonaSlytherin\"))\n",
        ")\n",
        "\n",
        "knowledge.add(\n",
        "    Symbol(\"MinervaGryffindor\")\n",
        ")\n",
        "\n",
        "for symbol in symbols:\n",
        "    if model_check(knowledge,symbol):\n",
        "        print(symbol)\n"
      ],
      "metadata": {
        "colab": {
          "base_uri": "https://localhost:8080/"
        },
        "id": "iRs7GtL-FiTu",
        "outputId": "9fb4f790-ef65-45cb-f6cd-8782ee399be6"
      },
      "execution_count": 13,
      "outputs": [
        {
          "output_type": "stream",
          "name": "stdout",
          "text": [
            "GilderoyRavenclaw\n",
            "PomonaHufflepuff\n",
            "MinervaGryffindor\n",
            "HoraceSlytherin\n"
          ]
        }
      ]
    }
  ]
}